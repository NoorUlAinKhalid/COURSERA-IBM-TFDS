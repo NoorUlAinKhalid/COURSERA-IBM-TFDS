{
 "cells": [
  {
   "cell_type": "markdown",
   "id": "5041e961-07df-435e-8274-b91424f81db1",
   "metadata": {},
   "source": [
    "# Data Science Tools and Ecosystem"
   ]
  },
  {
   "cell_type": "markdown",
   "id": "a798f839-a47b-48cc-bea8-c4bc9268aae9",
   "metadata": {},
   "source": [
    "In this notebook, Data Science Tools and Ecosystem are summarized."
   ]
  },
  {
   "cell_type": "markdown",
   "id": "7cb12f83-4501-4674-a474-f1991848282f",
   "metadata": {},
   "source": [
    "some popular languages that Data Scientists use are:\n",
    "1. R\n",
    "2. Julia\n",
    "3. Python\n",
    "4. SQL\n",
    "5. Scala"
   ]
  },
  {
   "cell_type": "markdown",
   "id": "64607a7e-42a5-4068-b9cc-2604706f55f2",
   "metadata": {},
   "source": [
    "Some of the most commonly used libraries used by Data Scientist include:\n",
    "1. Pandas\n",
    "2. NumPy\n",
    "3. SciPy\n",
    "4. Matplotlib\n",
    "5. ScikitLearn"
   ]
  },
  {
   "cell_type": "markdown",
   "id": "dcc30cf1-fb7c-438e-aadf-1c6510a718b5",
   "metadata": {},
   "source": [
    "|Data Science Tools|\n",
    "|------------------|\n",
    "|Jupyter Notebook  |\n",
    "|Google Colab      |\n",
    "|R Studio          |"
   ]
  },
  {
   "cell_type": "markdown",
   "id": "1407c32b-8065-4f42-9ddd-a64b55614fa9",
   "metadata": {},
   "source": [
    "Below are a few examples of evaluating arithmetic expressions in Python"
   ]
  },
  {
   "cell_type": "code",
   "execution_count": 2,
   "id": "300b93a0-5309-443d-8f88-52a432f0641a",
   "metadata": {},
   "outputs": [
    {
     "data": {
      "text/plain": [
       "17"
      ]
     },
     "execution_count": 2,
     "metadata": {},
     "output_type": "execute_result"
    }
   ],
   "source": [
    "# This is sample arithmetic expression to multiply then add integers\n",
    "(3*4)+5"
   ]
  },
  {
   "cell_type": "code",
   "execution_count": 3,
   "id": "b4073c10-3220-406a-b7c7-816b4ed86aef",
   "metadata": {},
   "outputs": [
    {
     "data": {
      "text/plain": [
       "3.3333333333333335"
      ]
     },
     "execution_count": 3,
     "metadata": {},
     "output_type": "execute_result"
    }
   ],
   "source": [
    "# This will convert 200 minutes to hours by dividing by 60\n",
    "200/60"
   ]
  },
  {
   "cell_type": "markdown",
   "id": "06899c46-f93b-4bbf-8887-b02ea096f61b",
   "metadata": {},
   "source": [
    "# **Objectives**\n",
    "\n",
    "* Languages for Data Science\n",
    "* Tools for Data Science\n",
    "* Libraries for Data Science\n",
    "* Tables in Markdown\n",
    "* Ordered and Unordered lists in Markdown\n"
   ]
  },
  {
   "cell_type": "markdown",
   "id": "ed1ba67a-38fb-4d4a-9540-a032ad928fe7",
   "metadata": {},
   "source": [
    "## Author\n",
    "Noor Ul Ain Khalid"
   ]
  },
  {
   "cell_type": "code",
   "execution_count": null,
   "id": "2560ae8d-8551-4f1b-9f7b-765e909c3045",
   "metadata": {},
   "outputs": [],
   "source": []
  }
 ],
 "metadata": {
  "kernelspec": {
   "display_name": "Python",
   "language": "python",
   "name": "conda-env-python-py"
  },
  "language_info": {
   "codemirror_mode": {
    "name": "ipython",
    "version": 3
   },
   "file_extension": ".py",
   "mimetype": "text/x-python",
   "name": "python",
   "nbconvert_exporter": "python",
   "pygments_lexer": "ipython3",
   "version": "3.7.12"
  }
 },
 "nbformat": 4,
 "nbformat_minor": 5
}
